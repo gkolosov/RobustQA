{
 "cells": [
  {
   "cell_type": "code",
   "execution_count": 1,
   "metadata": {},
   "outputs": [
    {
     "name": "stdout",
     "output_type": "stream",
     "text": [
      "/Users/koloss/Desktop/CS224N/final_project/RobustQA\n"
     ]
    }
   ],
   "source": [
    "%cd .."
   ]
  },
  {
   "cell_type": "code",
   "execution_count": 2,
   "metadata": {},
   "outputs": [],
   "source": [
    "from transformers import DistilBertTokenizerFast\n",
    "import util"
   ]
  },
  {
   "cell_type": "code",
   "execution_count": 3,
   "metadata": {},
   "outputs": [],
   "source": [
    "import pandas as pd\n",
    "import numpy as np"
   ]
  },
  {
   "cell_type": "code",
   "execution_count": 15,
   "metadata": {},
   "outputs": [],
   "source": [
    "from data_augmentation import *"
   ]
  },
  {
   "cell_type": "code",
   "execution_count": 4,
   "metadata": {},
   "outputs": [],
   "source": [
    "\n",
    "def get_dataset(args, datasets, data_dir, tokenizer, split_name, debug=-1):\n",
    "    datasets = datasets.split(',')\n",
    "    dataset_dict = None\n",
    "    dataset_name = ''\n",
    "    label = 0\n",
    "    for dataset in datasets:\n",
    "        dataset_name += f'_{dataset}'\n",
    "        dataset_dict_curr = util.read_squad(f'{data_dir}/{dataset}')\n",
    "        dataset_dict_curr['label'] = label\n",
    "        dataset_dict = util.merge(dataset_dict, dataset_dict_curr)\n",
    "        label += 1\n",
    "    data_encodings = read_and_process(args, tokenizer, dataset_dict, data_dir, dataset_name, split_name)\n",
    "    return util.QADataset(data_encodings, train=(split_name == 'train')), dataset_dict, label\n"
   ]
  },
  {
   "cell_type": "code",
   "execution_count": 5,
   "metadata": {},
   "outputs": [],
   "source": [
    "tokenizer = DistilBertTokenizerFast.from_pretrained('distilbert-base-uncased')"
   ]
  },
  {
   "cell_type": "code",
   "execution_count": 6,
   "metadata": {},
   "outputs": [],
   "source": [
    "datasets = 'duorc,race'\n",
    "data_dir = 'datasets/oodomain_train'"
   ]
  },
  {
   "cell_type": "code",
   "execution_count": 7,
   "metadata": {},
   "outputs": [],
   "source": [
    "datasets = datasets.split(',')\n",
    "dataset_dict = None\n",
    "dataset_name = ''\n",
    "label = 0\n",
    "for dataset in datasets:\n",
    "    dataset_name += f'_{dataset}'\n",
    "    dataset_dict_curr = util.read_squad(f'{data_dir}/{dataset}')\n",
    "    dataset_dict_curr['label'] = label\n",
    "    dataset_dict = util.merge(dataset_dict, dataset_dict_curr)\n",
    "    label += 1\n",
    "#data_encodings = read_and_process(args, tokenizer, dataset_dict, data_dir, dataset_name, split_name)\n",
    "\n"
   ]
  },
  {
   "cell_type": "code",
   "execution_count": 8,
   "metadata": {},
   "outputs": [
    {
     "data": {
      "text/plain": [
       "dict_keys(['question', 'context', 'id', 'answer', 'label'])"
      ]
     },
     "execution_count": 8,
     "metadata": {},
     "output_type": "execute_result"
    }
   ],
   "source": [
    "dataset_dict.keys()"
   ]
  },
  {
   "cell_type": "code",
   "execution_count": null,
   "metadata": {},
   "outputs": [],
   "source": []
  },
  {
   "cell_type": "code",
   "execution_count": 13,
   "metadata": {},
   "outputs": [],
   "source": [
    "df = pd.DataFrame({x: dataset_dict[x] for x in dataset_dict if x not in ['label']})\n",
    "df['start_char'] = df.answer.apply(lambda x : x['answer_start'][0])\n",
    "df['end_char'] = df['start_char']+ df.answer.apply(lambda x : len(x['text'][0]))\n",
    "df['final_answer'] = [A[B:C] for A, B, C in zip(df.context, df['start_char'],df['end_char'])]\n",
    "\n"
   ]
  },
  {
   "cell_type": "code",
   "execution_count": 14,
   "metadata": {},
   "outputs": [
    {
     "data": {
      "text/html": [
       "<div>\n",
       "<style scoped>\n",
       "    .dataframe tbody tr th:only-of-type {\n",
       "        vertical-align: middle;\n",
       "    }\n",
       "\n",
       "    .dataframe tbody tr th {\n",
       "        vertical-align: top;\n",
       "    }\n",
       "\n",
       "    .dataframe thead th {\n",
       "        text-align: right;\n",
       "    }\n",
       "</style>\n",
       "<table border=\"1\" class=\"dataframe\">\n",
       "  <thead>\n",
       "    <tr style=\"text-align: right;\">\n",
       "      <th></th>\n",
       "      <th>question</th>\n",
       "      <th>context</th>\n",
       "      <th>id</th>\n",
       "      <th>answer</th>\n",
       "      <th>start_char</th>\n",
       "      <th>end_char</th>\n",
       "      <th>final_answer</th>\n",
       "    </tr>\n",
       "  </thead>\n",
       "  <tbody>\n",
       "    <tr>\n",
       "      <th>0</th>\n",
       "      <td>What was Jill's mother's face burned by?</td>\n",
       "      <td>\\n\\nNew Orleans, Louisiana, 1927. An enraged p...</td>\n",
       "      <td>d94a42693350473581ff79dc91c91e04</td>\n",
       "      <td>{'answer_start': [2476], 'text': ['acid']}</td>\n",
       "      <td>2476</td>\n",
       "      <td>2480</td>\n",
       "      <td>acid</td>\n",
       "    </tr>\n",
       "    <tr>\n",
       "      <th>1</th>\n",
       "      <td>What year did a lynch mod muder someone who th...</td>\n",
       "      <td>\\n\\nNew Orleans, Louisiana, 1927. An enraged p...</td>\n",
       "      <td>f41dbe24bed44870a8ad36c87dda59a2</td>\n",
       "      <td>{'answer_start': [26], 'text': ['1927']}</td>\n",
       "      <td>26</td>\n",
       "      <td>30</td>\n",
       "      <td>1927</td>\n",
       "    </tr>\n",
       "    <tr>\n",
       "      <th>2</th>\n",
       "      <td>Whose corpse is in the morgue?</td>\n",
       "      <td>\\n\\nNew Orleans, Louisiana, 1927. An enraged p...</td>\n",
       "      <td>34f8093a16b64c8097bdaa03cccdef37</td>\n",
       "      <td>{'answer_start': [2873], 'text': ['Mary-Anne']}</td>\n",
       "      <td>2873</td>\n",
       "      <td>2882</td>\n",
       "      <td>Mary-Anne</td>\n",
       "    </tr>\n",
       "    <tr>\n",
       "      <th>3</th>\n",
       "      <td>What is the name of the blind girl?</td>\n",
       "      <td>\\n\\nNew Orleans, Louisiana, 1927. An enraged p...</td>\n",
       "      <td>b6a13cac6289435697e8ff98d55854a9</td>\n",
       "      <td>{'answer_start': [3659], 'text': ['Emily']}</td>\n",
       "      <td>3659</td>\n",
       "      <td>3664</td>\n",
       "      <td>Emily</td>\n",
       "    </tr>\n",
       "    <tr>\n",
       "      <th>4</th>\n",
       "      <td>Whose corpse does Liza see?</td>\n",
       "      <td>\\n\\nNew Orleans, Louisiana, 1927. An enraged p...</td>\n",
       "      <td>52ffe790d24a41669c08a240c1d45114</td>\n",
       "      <td>{'answer_start': [2348], 'text': ['Jill']}</td>\n",
       "      <td>2348</td>\n",
       "      <td>2352</td>\n",
       "      <td>Jill</td>\n",
       "    </tr>\n",
       "    <tr>\n",
       "      <th>...</th>\n",
       "      <td>...</td>\n",
       "      <td>...</td>\n",
       "      <td>...</td>\n",
       "      <td>...</td>\n",
       "      <td>...</td>\n",
       "      <td>...</td>\n",
       "      <td>...</td>\n",
       "    </tr>\n",
       "    <tr>\n",
       "      <th>249</th>\n",
       "      <td>How did the writer feel after he jumped out of...</td>\n",
       "      <td>When we are unfamiliar with something, we may ...</td>\n",
       "      <td>32137f8962fe4101a8efb30e742c8bb5</td>\n",
       "      <td>{'answer_start': [1401], 'text': ['happy']}</td>\n",
       "      <td>1401</td>\n",
       "      <td>1406</td>\n",
       "      <td>happy</td>\n",
       "    </tr>\n",
       "    <tr>\n",
       "      <th>250</th>\n",
       "      <td>Recorded history has taught us</td>\n",
       "      <td>In a few states where racial prejudice is seri...</td>\n",
       "      <td>3372b6a3133549f4af5df9b725757e8e</td>\n",
       "      <td>{'answer_start': [890], 'text': ['nothing.']}</td>\n",
       "      <td>890</td>\n",
       "      <td>898</td>\n",
       "      <td>nothing.</td>\n",
       "    </tr>\n",
       "    <tr>\n",
       "      <th>251</th>\n",
       "      <td>According the author the best way to solve rac...</td>\n",
       "      <td>In a few states where racial prejudice is seri...</td>\n",
       "      <td>b65b933a7b15401790b44f243f3e3e96</td>\n",
       "      <td>{'answer_start': [1406], 'text': ['law enforce...</td>\n",
       "      <td>1406</td>\n",
       "      <td>1421</td>\n",
       "      <td>law enforcement</td>\n",
       "    </tr>\n",
       "    <tr>\n",
       "      <th>252</th>\n",
       "      <td>Which expression has an historical background?</td>\n",
       "      <td>In many cultures white is often associated wit...</td>\n",
       "      <td>cc7e1bf548c242af8937d7c2b6851563</td>\n",
       "      <td>{'answer_start': [720], 'text': ['white elepha...</td>\n",
       "      <td>720</td>\n",
       "      <td>734</td>\n",
       "      <td>white elephant</td>\n",
       "    </tr>\n",
       "    <tr>\n",
       "      <th>253</th>\n",
       "      <td>What was \"Gerber's problem\"?</td>\n",
       "      <td>If a business wants to sell its products inter...</td>\n",
       "      <td>eb20be07280d41fb85564eb932e0677e</td>\n",
       "      <td>{'answer_start': [1250], 'text': ['picture on ...</td>\n",
       "      <td>1250</td>\n",
       "      <td>1268</td>\n",
       "      <td>picture on the jar</td>\n",
       "    </tr>\n",
       "  </tbody>\n",
       "</table>\n",
       "<p>254 rows × 7 columns</p>\n",
       "</div>"
      ],
      "text/plain": [
       "                                              question  \\\n",
       "0             What was Jill's mother's face burned by?   \n",
       "1    What year did a lynch mod muder someone who th...   \n",
       "2                       Whose corpse is in the morgue?   \n",
       "3                  What is the name of the blind girl?   \n",
       "4                          Whose corpse does Liza see?   \n",
       "..                                                 ...   \n",
       "249  How did the writer feel after he jumped out of...   \n",
       "250                     Recorded history has taught us   \n",
       "251  According the author the best way to solve rac...   \n",
       "252     Which expression has an historical background?   \n",
       "253                       What was \"Gerber's problem\"?   \n",
       "\n",
       "                                               context  \\\n",
       "0    \\n\\nNew Orleans, Louisiana, 1927. An enraged p...   \n",
       "1    \\n\\nNew Orleans, Louisiana, 1927. An enraged p...   \n",
       "2    \\n\\nNew Orleans, Louisiana, 1927. An enraged p...   \n",
       "3    \\n\\nNew Orleans, Louisiana, 1927. An enraged p...   \n",
       "4    \\n\\nNew Orleans, Louisiana, 1927. An enraged p...   \n",
       "..                                                 ...   \n",
       "249  When we are unfamiliar with something, we may ...   \n",
       "250  In a few states where racial prejudice is seri...   \n",
       "251  In a few states where racial prejudice is seri...   \n",
       "252  In many cultures white is often associated wit...   \n",
       "253  If a business wants to sell its products inter...   \n",
       "\n",
       "                                   id  \\\n",
       "0    d94a42693350473581ff79dc91c91e04   \n",
       "1    f41dbe24bed44870a8ad36c87dda59a2   \n",
       "2    34f8093a16b64c8097bdaa03cccdef37   \n",
       "3    b6a13cac6289435697e8ff98d55854a9   \n",
       "4    52ffe790d24a41669c08a240c1d45114   \n",
       "..                                ...   \n",
       "249  32137f8962fe4101a8efb30e742c8bb5   \n",
       "250  3372b6a3133549f4af5df9b725757e8e   \n",
       "251  b65b933a7b15401790b44f243f3e3e96   \n",
       "252  cc7e1bf548c242af8937d7c2b6851563   \n",
       "253  eb20be07280d41fb85564eb932e0677e   \n",
       "\n",
       "                                                answer  start_char  end_char  \\\n",
       "0           {'answer_start': [2476], 'text': ['acid']}        2476      2480   \n",
       "1             {'answer_start': [26], 'text': ['1927']}          26        30   \n",
       "2      {'answer_start': [2873], 'text': ['Mary-Anne']}        2873      2882   \n",
       "3          {'answer_start': [3659], 'text': ['Emily']}        3659      3664   \n",
       "4           {'answer_start': [2348], 'text': ['Jill']}        2348      2352   \n",
       "..                                                 ...         ...       ...   \n",
       "249        {'answer_start': [1401], 'text': ['happy']}        1401      1406   \n",
       "250      {'answer_start': [890], 'text': ['nothing.']}         890       898   \n",
       "251  {'answer_start': [1406], 'text': ['law enforce...        1406      1421   \n",
       "252  {'answer_start': [720], 'text': ['white elepha...         720       734   \n",
       "253  {'answer_start': [1250], 'text': ['picture on ...        1250      1268   \n",
       "\n",
       "           final_answer  \n",
       "0                  acid  \n",
       "1                  1927  \n",
       "2             Mary-Anne  \n",
       "3                 Emily  \n",
       "4                  Jill  \n",
       "..                  ...  \n",
       "249               happy  \n",
       "250            nothing.  \n",
       "251     law enforcement  \n",
       "252      white elephant  \n",
       "253  picture on the jar  \n",
       "\n",
       "[254 rows x 7 columns]"
      ]
     },
     "execution_count": 14,
     "metadata": {},
     "output_type": "execute_result"
    }
   ],
   "source": [
    "df"
   ]
  },
  {
   "cell_type": "code",
   "execution_count": 20,
   "metadata": {},
   "outputs": [
    {
     "data": {
      "text/plain": [
       "'\\n\\nNew Orleans, Louisiana, 1927. An enraged posse of men descend on the isolated Seven Doors Hotel deep in the swamps. They grab an artist called Schweik (Antoine Saint John), who is cloistered there. Accusing him of being a warlock, Schweik is dragged down to the cellar where he is savagely beaten with heavy chains, tortured with quicklime acid, and crucified with his wrists nailed to a cellar wall, despite his dire warnings of evil to be unleashed.New Orleans, 1981. Liza Merril (Catriona MacColl) is a young woman who arrives from New York City to claim the hotel as her inheritance. No sooner has architect friend Marin Avery (Michele Mirabella) begins to show her around the property, strange incidents begin to happen. A painter (Anthony Flees) falls off his rig and is horribly injured, coughing up blood and babbling about, \"the eyes, the eyes.\" Dr. John McCabe (David Warbeck) arrives to take the injured man to the hospital, and offers Liza some sympathy. Next, a plumber, named Joe, attempts to repair a major leak in the flooded cellar. However, he is murdered by a presence that emerged from behind a slim-caked wall. The atmosphere at the hotel is further chilled by the creepy-looking servants, Arthur (Giampaolo Saccarola) and Martha (Veronica Lazar), who apparently come with the hotel. Martha discovers Joe\\'s dead body in the cellar, and another much older cadaver lying in a pool of dirty water nearby. It is apparently that of Schweik, the artist.Driving down the 14-mile causeway to New Orleans, Liza encounters a strange blind woman, standing in the middle of the desolate highway. The blind woman introduces herself as Emily (Sarah Keller), and tells Liza that she has been waiting for her, although her eyes are occluded with cataracts. Liza drives Emily over to her opulently furnished house in New Orleans. Liza is warned by Emily to leave the hotel while she still can. Meanwhile at the hospital morgue, Dr. John McCabe is performing the autopsy on Joe the plumber while his assistant Harris (Al Cliver) wants to install an EMG machine to the corpse of Schweik. John laughs it off and leaves for lunch, while Harris remains behind to install the EMG machine. After Harris leaves for a call, the EMG machine begins pulsing with activity. A little later, Joe\\'s wife Mary-Anne (Laura De Marchi) arrives with her daughter Jill (Maria Pia Marsale) to dress up her husband\\'s corpse for the funeral, when she is killed in a horrific way by scalded with acid. Jill is then menaced by the re-animated cadaver of Schweik.Liza meets with John McCabe in a downtown bar to discuss her misgivings and anxieties. He expresses puzzlement when Lisa complains about he ineptitude of her weird servants. John claims to have never heard of them before despite knowing everyone in the area. Then a phone call from the bar arrives from Harris who informs John that Mary-Anne\\'s body was found in the morgue, while Jill was found huddled in a corner frightened and unable to speak. After Joe and Mary-Anne\\'s funeral, Emily appears again to Liza that evening at the hotel. Emily tells Liza about the warlock Schweik, who stayed in Room 36 of the hotel and about the supernatural underworld that the hotel conceals. The hotel was built over one of the Seven Gates of Hell, and Schweik has been the Guardian. Emily is about to reveal more when her hands wander over to a canvas depicting a desolate vision of lost souls in a terrible and arid landscape. Suddenly afraid, Emily says that the painting was painted by Schweik before he died, and she runs out of the hotel parlor into the night. But Liza notices a disquieting fact about her sudden departure: Emily made no footfalls on the bare wooden boards as she ran, and neither did her seeing-eye dog.The next day, Liza ventures nervously into Room 36, a dingy phantasmal of sheet-covered furniture and shafts of dusty light. She finds an ancient book, whose weirdly flesh-like cover bears the single word'"
      ]
     },
     "execution_count": 20,
     "metadata": {},
     "output_type": "execute_result"
    }
   ],
   "source": [
    "words"
   ]
  },
  {
   "cell_type": "code",
   "execution_count": 17,
   "metadata": {},
   "outputs": [
    {
     "ename": "AttributeError",
     "evalue": "'str' object has no attribute 'copy'",
     "output_type": "error",
     "traceback": [
      "\u001b[0;31m---------------------------------------------------------------------------\u001b[0m",
      "\u001b[0;31mAttributeError\u001b[0m                            Traceback (most recent call last)",
      "\u001b[0;32m<ipython-input-17-1a2ca33d9b31>\u001b[0m in \u001b[0;36m<module>\u001b[0;34m\u001b[0m\n\u001b[1;32m      1\u001b[0m \u001b[0mwords\u001b[0m\u001b[0;34m=\u001b[0m\u001b[0mdf\u001b[0m\u001b[0;34m.\u001b[0m\u001b[0mloc\u001b[0m\u001b[0;34m[\u001b[0m\u001b[0;36m0\u001b[0m\u001b[0;34m,\u001b[0m\u001b[0;34m'context'\u001b[0m\u001b[0;34m]\u001b[0m\u001b[0;34m\u001b[0m\u001b[0;34m\u001b[0m\u001b[0m\n\u001b[0;32m----> 2\u001b[0;31m \u001b[0mnew_word\u001b[0m \u001b[0;34m=\u001b[0m \u001b[0msynonym_replacement\u001b[0m\u001b[0;34m(\u001b[0m\u001b[0mword\u001b[0m\u001b[0;34m,\u001b[0m \u001b[0;36m10\u001b[0m\u001b[0;34m)\u001b[0m\u001b[0;34m\u001b[0m\u001b[0;34m\u001b[0m\u001b[0m\n\u001b[0m",
      "\u001b[0;32m~/Desktop/CS224N/final_project/RobustQA/data_augmentation.py\u001b[0m in \u001b[0;36msynonym_replacement\u001b[0;34m(words, n)\u001b[0m\n\u001b[1;32m     89\u001b[0m \u001b[0;34m\u001b[0m\u001b[0m\n\u001b[1;32m     90\u001b[0m \u001b[0;32mdef\u001b[0m \u001b[0msynonym_replacement\u001b[0m\u001b[0;34m(\u001b[0m\u001b[0mwords\u001b[0m\u001b[0;34m,\u001b[0m \u001b[0mn\u001b[0m\u001b[0;34m)\u001b[0m\u001b[0;34m:\u001b[0m\u001b[0;34m\u001b[0m\u001b[0;34m\u001b[0m\u001b[0m\n\u001b[0;32m---> 91\u001b[0;31m         \u001b[0mnew_words\u001b[0m \u001b[0;34m=\u001b[0m \u001b[0mwords\u001b[0m\u001b[0;34m.\u001b[0m\u001b[0mcopy\u001b[0m\u001b[0;34m(\u001b[0m\u001b[0;34m)\u001b[0m\u001b[0;34m\u001b[0m\u001b[0;34m\u001b[0m\u001b[0m\n\u001b[0m\u001b[1;32m     92\u001b[0m         \u001b[0mrandom_word_list\u001b[0m \u001b[0;34m=\u001b[0m \u001b[0mlist\u001b[0m\u001b[0;34m(\u001b[0m\u001b[0mset\u001b[0m\u001b[0;34m(\u001b[0m\u001b[0;34m[\u001b[0m\u001b[0mword\u001b[0m \u001b[0;32mfor\u001b[0m \u001b[0mword\u001b[0m \u001b[0;32min\u001b[0m \u001b[0mwords\u001b[0m \u001b[0;32mif\u001b[0m \u001b[0mword\u001b[0m \u001b[0;32mnot\u001b[0m \u001b[0;32min\u001b[0m \u001b[0mstop_words\u001b[0m\u001b[0;34m]\u001b[0m\u001b[0;34m)\u001b[0m\u001b[0;34m)\u001b[0m\u001b[0;34m\u001b[0m\u001b[0;34m\u001b[0m\u001b[0m\n\u001b[1;32m     93\u001b[0m         \u001b[0mrandom\u001b[0m\u001b[0;34m.\u001b[0m\u001b[0mshuffle\u001b[0m\u001b[0;34m(\u001b[0m\u001b[0mrandom_word_list\u001b[0m\u001b[0;34m)\u001b[0m\u001b[0;34m\u001b[0m\u001b[0;34m\u001b[0m\u001b[0m\n",
      "\u001b[0;31mAttributeError\u001b[0m: 'str' object has no attribute 'copy'"
     ]
    }
   ],
   "source": [
    "words=df.loc[0,'context']\n",
    "new_word = synonym_replacement(word, 10)\n"
   ]
  },
  {
   "cell_type": "code",
   "execution_count": 169,
   "metadata": {},
   "outputs": [],
   "source": [
    "changes=dict(zip([\" game \", \" set \"], [\" lame \", \" bet \"]))\n",
    "\n",
    "df = pd.DataFrame({x: dataset_dict[x] for x in dataset_dict if x not in ['label']})\n",
    "df['start_char'] = df.answer.apply(lambda x : x['answer_start'][0])\n",
    "df['end_char'] = df['start_char']+ df.answer.apply(lambda x : len(x['text'][0]))\n",
    "df['final_answer'] = [A[B:C] for A, B, C in zip(df.context, df['start_char'],df['end_char'])]\n",
    "df['context'] = df.context.str.strip().replace(changes,regex=True)\n",
    "\n",
    "##df['new_context'] = df.context.str.strip().replace(changes,regex=True)\n",
    "##df['new_answer'] = [A[B:C] for A, B, C in zip(df['new_context'], df['start_char'],df['end_char'])]\n",
    "new_dataset_dict = df[[i for i in dataset_dict.keys() if i!= 'label']].to_dict()\n",
    "new_dataset_dict ['label'] = dataset_dict['label']"
   ]
  },
  {
   "cell_type": "code",
   "execution_count": 156,
   "metadata": {},
   "outputs": [],
   "source": [
    "#df[[i for i in dataset_dict.keys() if i!= 'label']].to_dict()"
   ]
  },
  {
   "cell_type": "code",
   "execution_count": 172,
   "metadata": {},
   "outputs": [
    {
     "data": {
      "text/html": [
       "<div>\n",
       "<style scoped>\n",
       "    .dataframe tbody tr th:only-of-type {\n",
       "        vertical-align: middle;\n",
       "    }\n",
       "\n",
       "    .dataframe tbody tr th {\n",
       "        vertical-align: top;\n",
       "    }\n",
       "\n",
       "    .dataframe thead th {\n",
       "        text-align: right;\n",
       "    }\n",
       "</style>\n",
       "<table border=\"1\" class=\"dataframe\">\n",
       "  <thead>\n",
       "    <tr style=\"text-align: right;\">\n",
       "      <th></th>\n",
       "      <th>question</th>\n",
       "      <th>context</th>\n",
       "      <th>id</th>\n",
       "      <th>answer</th>\n",
       "      <th>start_char</th>\n",
       "      <th>end_char</th>\n",
       "      <th>final_answer</th>\n",
       "    </tr>\n",
       "  </thead>\n",
       "  <tbody>\n",
       "    <tr>\n",
       "      <th>0</th>\n",
       "      <td>What was Jill's mother's face burned by?</td>\n",
       "      <td>New Orleans, Louisiana, 1927. An enraged posse...</td>\n",
       "      <td>d94a42693350473581ff79dc91c91e04</td>\n",
       "      <td>{'answer_start': [2476], 'text': ['acid']}</td>\n",
       "      <td>2476</td>\n",
       "      <td>2480</td>\n",
       "      <td>acid</td>\n",
       "    </tr>\n",
       "    <tr>\n",
       "      <th>1</th>\n",
       "      <td>What year did a lynch mod muder someone who th...</td>\n",
       "      <td>New Orleans, Louisiana, 1927. An enraged posse...</td>\n",
       "      <td>f41dbe24bed44870a8ad36c87dda59a2</td>\n",
       "      <td>{'answer_start': [26], 'text': ['1927']}</td>\n",
       "      <td>26</td>\n",
       "      <td>30</td>\n",
       "      <td>1927</td>\n",
       "    </tr>\n",
       "    <tr>\n",
       "      <th>2</th>\n",
       "      <td>Whose corpse is in the morgue?</td>\n",
       "      <td>New Orleans, Louisiana, 1927. An enraged posse...</td>\n",
       "      <td>34f8093a16b64c8097bdaa03cccdef37</td>\n",
       "      <td>{'answer_start': [2873], 'text': ['Mary-Anne']}</td>\n",
       "      <td>2873</td>\n",
       "      <td>2882</td>\n",
       "      <td>Mary-Anne</td>\n",
       "    </tr>\n",
       "    <tr>\n",
       "      <th>3</th>\n",
       "      <td>What is the name of the blind girl?</td>\n",
       "      <td>New Orleans, Louisiana, 1927. An enraged posse...</td>\n",
       "      <td>b6a13cac6289435697e8ff98d55854a9</td>\n",
       "      <td>{'answer_start': [3659], 'text': ['Emily']}</td>\n",
       "      <td>3659</td>\n",
       "      <td>3664</td>\n",
       "      <td>Emily</td>\n",
       "    </tr>\n",
       "    <tr>\n",
       "      <th>4</th>\n",
       "      <td>Whose corpse does Liza see?</td>\n",
       "      <td>New Orleans, Louisiana, 1927. An enraged posse...</td>\n",
       "      <td>52ffe790d24a41669c08a240c1d45114</td>\n",
       "      <td>{'answer_start': [2348], 'text': ['Jill']}</td>\n",
       "      <td>2348</td>\n",
       "      <td>2352</td>\n",
       "      <td>Jill</td>\n",
       "    </tr>\n",
       "  </tbody>\n",
       "</table>\n",
       "</div>"
      ],
      "text/plain": [
       "                                            question  \\\n",
       "0           What was Jill's mother's face burned by?   \n",
       "1  What year did a lynch mod muder someone who th...   \n",
       "2                     Whose corpse is in the morgue?   \n",
       "3                What is the name of the blind girl?   \n",
       "4                        Whose corpse does Liza see?   \n",
       "\n",
       "                                             context  \\\n",
       "0  New Orleans, Louisiana, 1927. An enraged posse...   \n",
       "1  New Orleans, Louisiana, 1927. An enraged posse...   \n",
       "2  New Orleans, Louisiana, 1927. An enraged posse...   \n",
       "3  New Orleans, Louisiana, 1927. An enraged posse...   \n",
       "4  New Orleans, Louisiana, 1927. An enraged posse...   \n",
       "\n",
       "                                 id  \\\n",
       "0  d94a42693350473581ff79dc91c91e04   \n",
       "1  f41dbe24bed44870a8ad36c87dda59a2   \n",
       "2  34f8093a16b64c8097bdaa03cccdef37   \n",
       "3  b6a13cac6289435697e8ff98d55854a9   \n",
       "4  52ffe790d24a41669c08a240c1d45114   \n",
       "\n",
       "                                            answer  start_char  end_char  \\\n",
       "0       {'answer_start': [2476], 'text': ['acid']}        2476      2480   \n",
       "1         {'answer_start': [26], 'text': ['1927']}          26        30   \n",
       "2  {'answer_start': [2873], 'text': ['Mary-Anne']}        2873      2882   \n",
       "3      {'answer_start': [3659], 'text': ['Emily']}        3659      3664   \n",
       "4       {'answer_start': [2348], 'text': ['Jill']}        2348      2352   \n",
       "\n",
       "  final_answer  \n",
       "0         acid  \n",
       "1         1927  \n",
       "2    Mary-Anne  \n",
       "3        Emily  \n",
       "4         Jill  "
      ]
     },
     "execution_count": 172,
     "metadata": {},
     "output_type": "execute_result"
    }
   ],
   "source": [
    "df.head()"
   ]
  },
  {
   "cell_type": "markdown",
   "metadata": {},
   "source": [
    "## SR"
   ]
  },
  {
   "cell_type": "code",
   "execution_count": 173,
   "metadata": {},
   "outputs": [
    {
     "name": "stderr",
     "output_type": "stream",
     "text": [
      "[nltk_data] Downloading package wordnet to /Users/koloss/nltk_data...\n",
      "[nltk_data]   Unzipping corpora/wordnet.zip.\n",
      "[nltk_data] Downloading package omw-1.4 to /Users/koloss/nltk_data...\n",
      "[nltk_data]   Unzipping corpora/omw-1.4.zip.\n"
     ]
    }
   ],
   "source": [
    "import nltk\n",
    "nltk.download('wordnet')\n",
    "nltk.download('omw-1.4')\n",
    "from nltk.corpus import wordnet "
   ]
  },
  {
   "cell_type": "code",
   "execution_count": 193,
   "metadata": {},
   "outputs": [],
   "source": [
    "\n",
    "import random\n",
    "from random import shuffle"
   ]
  },
  {
   "cell_type": "code",
   "execution_count": 194,
   "metadata": {},
   "outputs": [],
   "source": [
    "#stop words list\n",
    "stop_words = ['i', 'me', 'my', 'myself', 'we', 'our', \n",
    "\t\t\t'ours', 'ourselves', 'you', 'your', 'yours', \n",
    "\t\t\t'yourself', 'yourselves', 'he', 'him', 'his', \n",
    "\t\t\t'himself', 'she', 'her', 'hers', 'herself', \n",
    "\t\t\t'it', 'its', 'itself', 'they', 'them', 'their', \n",
    "\t\t\t'theirs', 'themselves', 'what', 'which', 'who', \n",
    "\t\t\t'whom', 'this', 'that', 'these', 'those', 'am', \n",
    "\t\t\t'is', 'are', 'was', 'were', 'be', 'been', 'being', \n",
    "\t\t\t'have', 'has', 'had', 'having', 'do', 'does', 'did',\n",
    "\t\t\t'doing', 'a', 'an', 'the', 'and', 'but', 'if', 'or',\n",
    "\t\t\t'because', 'as', 'until', 'while', 'of', 'at', \n",
    "\t\t\t'by', 'for', 'with', 'about', 'against', 'between',\n",
    "\t\t\t'into', 'through', 'during', 'before', 'after', \n",
    "\t\t\t'above', 'below', 'to', 'from', 'up', 'down', 'in',\n",
    "\t\t\t'out', 'on', 'off', 'over', 'under', 'again', \n",
    "\t\t\t'further', 'then', 'once', 'here', 'there', 'when', \n",
    "\t\t\t'where', 'why', 'how', 'all', 'any', 'both', 'each', \n",
    "\t\t\t'few', 'more', 'most', 'other', 'some', 'such', 'no', \n",
    "\t\t\t'nor', 'not', 'only', 'own', 'same', 'so', 'than', 'too', \n",
    "\t\t\t'very', 's', 't', 'can', 'will', 'just', 'don', \n",
    "\t\t\t'should', 'now', '']\n",
    "\n",
    "#cleaning up text\n",
    "import re\n",
    "def get_only_chars(line):\n",
    "\n",
    "    clean_line = \"\"\n",
    "\n",
    "    line = line.replace(\"’\", \"\")\n",
    "    line = line.replace(\"'\", \"\")\n",
    "    line = line.replace(\"-\", \" \") #replace hyphens with spaces\n",
    "    line = line.replace(\"\\t\", \" \")\n",
    "    line = line.replace(\"\\n\", \" \")\n",
    "    line = line.lower()\n",
    "\n",
    "    for char in line:\n",
    "        if char in 'qwertyuiopasdfghjklzxcvbnm ':\n",
    "            clean_line += char\n",
    "        else:\n",
    "            clean_line += ' '\n",
    "\n",
    "    clean_line = re.sub(' +',' ',clean_line) #delete extra spaces\n",
    "    if clean_line[0] == ' ':\n",
    "        clean_line = clean_line[1:]\n",
    "    return clean_line\n"
   ]
  },
  {
   "cell_type": "code",
   "execution_count": 195,
   "metadata": {},
   "outputs": [],
   "source": [
    "\n",
    "def synonym_replacement(words, n):\n",
    "\tnew_words = words.copy()\n",
    "\trandom_word_list = list(set([word for word in words if word not in stop_words]))\n",
    "\trandom.shuffle(random_word_list)\n",
    "\tnum_replaced = 0\n",
    "\tfor random_word in random_word_list:\n",
    "\t\tsynonyms = get_synonyms(random_word)\n",
    "\t\tif len(synonyms) >= 1:\n",
    "\t\t\tsynonym = random.choice(list(synonyms))\n",
    "\t\t\tnew_words = [synonym if word == random_word else word for word in new_words]\n",
    "\t\t\t#print(\"replaced\", random_word, \"with\", synonym)\n",
    "\t\t\tnum_replaced += 1\n",
    "\t\tif num_replaced >= n: #only replace up to n words\n",
    "\t\t\tbreak\n",
    "\n",
    "\t#this is stupid but we need it, trust me\n",
    "\tsentence = ' '.join(new_words)\n",
    "\tnew_words = sentence.split(' ')\n",
    "\n",
    "\treturn new_words\n",
    "\n",
    "def get_synonyms(word):\n",
    "\tsynonyms = set()\n",
    "\tfor syn in wordnet.synsets(word): \n",
    "\t\tfor l in syn.lemmas(): \n",
    "\t\t\tsynonym = l.name().replace(\"_\", \" \").replace(\"-\", \" \").lower()\n",
    "\t\t\tsynonym = \"\".join([char for char in synonym if char in ' qwertyuiopasdfghjklzxcvbnm'])\n",
    "\t\t\tsynonyms.add(synonym) \n",
    "\tif word in synonyms:\n",
    "\t\tsynonyms.remove(word)\n",
    "\treturn list(synonyms)\n",
    "\n",
    "def eda(sentence, alpha_sr=0.1, alpha_ri=0, alpha_rs=0, p_rd=0, num_aug=9):\n",
    "\t\n",
    "\tsentence = get_only_chars(sentence)\n",
    "\twords = sentence.split(' ')\n",
    "\twords = [word for word in words if word is not '']\n",
    "\tnum_words = len(words)\n",
    "\t\n",
    "\taugmented_sentences = []\n",
    "\tnum_new_per_technique = int(num_aug/4)+1\n",
    "\n",
    "\t#sr\n",
    "\tif (alpha_sr > 0):\n",
    "\t\tn_sr = max(1, int(alpha_sr*num_words))\n",
    "\t\tfor _ in range(num_new_per_technique):\n",
    "\t\t\ta_words = synonym_replacement(words, n_sr)\n",
    "\t\t\taugmented_sentences.append(' '.join(a_words))\n",
    "\n",
    "\t#ri\n",
    "\tif (alpha_ri > 0):\n",
    "\t\tn_ri = max(1, int(alpha_ri*num_words))\n",
    "\t\tfor _ in range(num_new_per_technique):\n",
    "\t\t\ta_words = random_insertion(words, n_ri)\n",
    "\t\t\taugmented_sentences.append(' '.join(a_words))\n",
    "\n",
    "\t#rs\n",
    "\tif (alpha_rs > 0):\n",
    "\t\tn_rs = max(1, int(alpha_rs*num_words))\n",
    "\t\tfor _ in range(num_new_per_technique):\n",
    "\t\t\ta_words = random_swap(words, n_rs)\n",
    "\t\t\taugmented_sentences.append(' '.join(a_words))\n",
    "\n",
    "\t#rd\n",
    "\tif (p_rd > 0):\n",
    "\t\tfor _ in range(num_new_per_technique):\n",
    "\t\t\ta_words = random_deletion(words, p_rd)\n",
    "\t\t\taugmented_sentences.append(' '.join(a_words))\n",
    "\n",
    "\taugmented_sentences = [get_only_chars(sentence) for sentence in augmented_sentences]\n",
    "\tshuffle(augmented_sentences)\n",
    "\n",
    "\t#trim so that we have the desired number of augmented sentences\n",
    "\tif num_aug >= 1:\n",
    "\t\taugmented_sentences = augmented_sentences[:num_aug]\n",
    "\telse:\n",
    "\t\tkeep_prob = num_aug / len(augmented_sentences)\n",
    "\t\taugmented_sentences = [s for s in augmented_sentences if random.uniform(0, 1) < keep_prob]\n",
    "\n",
    "\t#append the original sentence\n",
    "\taugmented_sentences.append(sentence)\n",
    "\n",
    "\treturn augmented_sentences"
   ]
  },
  {
   "cell_type": "code",
   "execution_count": 196,
   "metadata": {},
   "outputs": [
    {
     "data": {
      "text/plain": [
       "\"What was Jill's mother's face burned by?\""
      ]
     },
     "execution_count": 196,
     "metadata": {},
     "output_type": "execute_result"
    }
   ],
   "source": [
    "tst = df.loc[0,'question']\n",
    "tst"
   ]
  },
  {
   "cell_type": "code",
   "execution_count": 197,
   "metadata": {},
   "outputs": [
    {
     "data": {
      "text/plain": [
       "['what was jills mothers face sting by',\n",
       " 'what was jills mothers face glow by',\n",
       " 'what was jills mothers face up burned by',\n",
       " 'what was jills mothers face burned by ']"
      ]
     },
     "execution_count": 197,
     "metadata": {},
     "output_type": "execute_result"
    }
   ],
   "source": [
    "eda(tst)"
   ]
  },
  {
   "cell_type": "code",
   "execution_count": null,
   "metadata": {},
   "outputs": [],
   "source": []
  }
 ],
 "metadata": {
  "kernelspec": {
   "display_name": "Python 3",
   "language": "python",
   "name": "python3"
  },
  "language_info": {
   "codemirror_mode": {
    "name": "ipython",
    "version": 3
   },
   "file_extension": ".py",
   "mimetype": "text/x-python",
   "name": "python",
   "nbconvert_exporter": "python",
   "pygments_lexer": "ipython3",
   "version": "3.7.1"
  }
 },
 "nbformat": 4,
 "nbformat_minor": 5
}
