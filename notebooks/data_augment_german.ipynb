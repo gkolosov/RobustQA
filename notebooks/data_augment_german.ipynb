{
 "cells": [
  {
   "cell_type": "code",
   "execution_count": 1,
   "id": "6f03e5d5",
   "metadata": {},
   "outputs": [
    {
     "name": "stdout",
     "output_type": "stream",
     "text": [
      "/Users/koloss/Desktop/CS224N/final_project/RobustQA\n"
     ]
    }
   ],
   "source": [
    "%cd .."
   ]
  },
  {
   "cell_type": "code",
   "execution_count": 12,
   "id": "72b57675",
   "metadata": {},
   "outputs": [],
   "source": [
    "from transformers import DistilBertTokenizerFast\n",
    "import util"
   ]
  },
  {
   "cell_type": "code",
   "execution_count": 38,
   "id": "ff48d89e",
   "metadata": {},
   "outputs": [],
   "source": [
    "import pandas as pd\n",
    "import numpy as np"
   ]
  },
  {
   "cell_type": "code",
   "execution_count": null,
   "id": "3d644419",
   "metadata": {},
   "outputs": [],
   "source": [
    "\n",
    "def get_dataset(args, datasets, data_dir, tokenizer, split_name, debug=-1):\n",
    "    datasets = datasets.split(',')\n",
    "    dataset_dict = None\n",
    "    dataset_name = ''\n",
    "    label = 0\n",
    "    for dataset in datasets:\n",
    "        dataset_name += f'_{dataset}'\n",
    "        dataset_dict_curr = util.read_squad(f'{data_dir}/{dataset}')\n",
    "        dataset_dict_curr['label'] = label\n",
    "        dataset_dict = util.merge(dataset_dict, dataset_dict_curr)\n",
    "        label += 1\n",
    "    data_encodings = read_and_process(args, tokenizer, dataset_dict, data_dir, dataset_name, split_name)\n",
    "    return util.QADataset(data_encodings, train=(split_name == 'train')), dataset_dict, label\n"
   ]
  },
  {
   "cell_type": "code",
   "execution_count": 10,
   "id": "b97d3483",
   "metadata": {},
   "outputs": [],
   "source": [
    "tokenizer = DistilBertTokenizerFast.from_pretrained('distilbert-base-uncased')"
   ]
  },
  {
   "cell_type": "code",
   "execution_count": 166,
   "id": "a7773414",
   "metadata": {},
   "outputs": [],
   "source": [
    "datasets = 'duorc,race'\n",
    "data_dir = 'datasets/oodomain_train'"
   ]
  },
  {
   "cell_type": "code",
   "execution_count": 167,
   "id": "f4d6c776",
   "metadata": {},
   "outputs": [],
   "source": [
    "datasets = datasets.split(',')\n",
    "dataset_dict = None\n",
    "dataset_name = ''\n",
    "label = 0\n",
    "for dataset in datasets:\n",
    "    dataset_name += f'_{dataset}'\n",
    "    dataset_dict_curr = util.read_squad(f'{data_dir}/{dataset}')\n",
    "    dataset_dict_curr['label'] = label\n",
    "    dataset_dict = util.merge(dataset_dict, dataset_dict_curr)\n",
    "    label += 1\n",
    "#data_encodings = read_and_process(args, tokenizer, dataset_dict, data_dir, dataset_name, split_name)\n",
    "\n"
   ]
  },
  {
   "cell_type": "code",
   "execution_count": 168,
   "id": "353ad446",
   "metadata": {},
   "outputs": [
    {
     "data": {
      "text/plain": [
       "dict_keys(['question', 'context', 'id', 'answer', 'label'])"
      ]
     },
     "execution_count": 168,
     "metadata": {},
     "output_type": "execute_result"
    }
   ],
   "source": [
    "dataset_dict.keys()"
   ]
  },
  {
   "cell_type": "code",
   "execution_count": 169,
   "id": "b8596d9f",
   "metadata": {},
   "outputs": [],
   "source": [
    "changes=dict(zip([\" game \", \" set \"], [\" lame \", \" bet \"]))\n",
    "\n",
    "df = pd.DataFrame({x: dataset_dict[x] for x in dataset_dict if x not in ['label']})\n",
    "df['start_char'] = df.answer.apply(lambda x : x['answer_start'][0])\n",
    "df['end_char'] = df['start_char']+ df.answer.apply(lambda x : len(x['text'][0]))\n",
    "df['final_answer'] = [A[B:C] for A, B, C in zip(df.context, df['start_char'],df['end_char'])]\n",
    "df['context'] = df.context.str.strip().replace(changes,regex=True)\n",
    "\n",
    "##df['new_context'] = df.context.str.strip().replace(changes,regex=True)\n",
    "##df['new_answer'] = [A[B:C] for A, B, C in zip(df['new_context'], df['start_char'],df['end_char'])]\n",
    "new_dataset_dict = df[[i for i in dataset_dict.keys() if i!= 'label']].to_dict()\n",
    "new_dataset_dict ['label'] = dataset_dict['label']"
   ]
  },
  {
   "cell_type": "code",
   "execution_count": 156,
   "id": "6c4fa921",
   "metadata": {},
   "outputs": [],
   "source": [
    "#df[[i for i in dataset_dict.keys() if i!= 'label']].to_dict()"
   ]
  },
  {
   "cell_type": "code",
   "execution_count": 172,
   "id": "26b607f6",
   "metadata": {},
   "outputs": [
    {
     "data": {
      "text/html": [
       "<div>\n",
       "<style scoped>\n",
       "    .dataframe tbody tr th:only-of-type {\n",
       "        vertical-align: middle;\n",
       "    }\n",
       "\n",
       "    .dataframe tbody tr th {\n",
       "        vertical-align: top;\n",
       "    }\n",
       "\n",
       "    .dataframe thead th {\n",
       "        text-align: right;\n",
       "    }\n",
       "</style>\n",
       "<table border=\"1\" class=\"dataframe\">\n",
       "  <thead>\n",
       "    <tr style=\"text-align: right;\">\n",
       "      <th></th>\n",
       "      <th>question</th>\n",
       "      <th>context</th>\n",
       "      <th>id</th>\n",
       "      <th>answer</th>\n",
       "      <th>start_char</th>\n",
       "      <th>end_char</th>\n",
       "      <th>final_answer</th>\n",
       "    </tr>\n",
       "  </thead>\n",
       "  <tbody>\n",
       "    <tr>\n",
       "      <th>0</th>\n",
       "      <td>What was Jill's mother's face burned by?</td>\n",
       "      <td>New Orleans, Louisiana, 1927. An enraged posse...</td>\n",
       "      <td>d94a42693350473581ff79dc91c91e04</td>\n",
       "      <td>{'answer_start': [2476], 'text': ['acid']}</td>\n",
       "      <td>2476</td>\n",
       "      <td>2480</td>\n",
       "      <td>acid</td>\n",
       "    </tr>\n",
       "    <tr>\n",
       "      <th>1</th>\n",
       "      <td>What year did a lynch mod muder someone who th...</td>\n",
       "      <td>New Orleans, Louisiana, 1927. An enraged posse...</td>\n",
       "      <td>f41dbe24bed44870a8ad36c87dda59a2</td>\n",
       "      <td>{'answer_start': [26], 'text': ['1927']}</td>\n",
       "      <td>26</td>\n",
       "      <td>30</td>\n",
       "      <td>1927</td>\n",
       "    </tr>\n",
       "    <tr>\n",
       "      <th>2</th>\n",
       "      <td>Whose corpse is in the morgue?</td>\n",
       "      <td>New Orleans, Louisiana, 1927. An enraged posse...</td>\n",
       "      <td>34f8093a16b64c8097bdaa03cccdef37</td>\n",
       "      <td>{'answer_start': [2873], 'text': ['Mary-Anne']}</td>\n",
       "      <td>2873</td>\n",
       "      <td>2882</td>\n",
       "      <td>Mary-Anne</td>\n",
       "    </tr>\n",
       "    <tr>\n",
       "      <th>3</th>\n",
       "      <td>What is the name of the blind girl?</td>\n",
       "      <td>New Orleans, Louisiana, 1927. An enraged posse...</td>\n",
       "      <td>b6a13cac6289435697e8ff98d55854a9</td>\n",
       "      <td>{'answer_start': [3659], 'text': ['Emily']}</td>\n",
       "      <td>3659</td>\n",
       "      <td>3664</td>\n",
       "      <td>Emily</td>\n",
       "    </tr>\n",
       "    <tr>\n",
       "      <th>4</th>\n",
       "      <td>Whose corpse does Liza see?</td>\n",
       "      <td>New Orleans, Louisiana, 1927. An enraged posse...</td>\n",
       "      <td>52ffe790d24a41669c08a240c1d45114</td>\n",
       "      <td>{'answer_start': [2348], 'text': ['Jill']}</td>\n",
       "      <td>2348</td>\n",
       "      <td>2352</td>\n",
       "      <td>Jill</td>\n",
       "    </tr>\n",
       "  </tbody>\n",
       "</table>\n",
       "</div>"
      ],
      "text/plain": [
       "                                            question  \\\n",
       "0           What was Jill's mother's face burned by?   \n",
       "1  What year did a lynch mod muder someone who th...   \n",
       "2                     Whose corpse is in the morgue?   \n",
       "3                What is the name of the blind girl?   \n",
       "4                        Whose corpse does Liza see?   \n",
       "\n",
       "                                             context  \\\n",
       "0  New Orleans, Louisiana, 1927. An enraged posse...   \n",
       "1  New Orleans, Louisiana, 1927. An enraged posse...   \n",
       "2  New Orleans, Louisiana, 1927. An enraged posse...   \n",
       "3  New Orleans, Louisiana, 1927. An enraged posse...   \n",
       "4  New Orleans, Louisiana, 1927. An enraged posse...   \n",
       "\n",
       "                                 id  \\\n",
       "0  d94a42693350473581ff79dc91c91e04   \n",
       "1  f41dbe24bed44870a8ad36c87dda59a2   \n",
       "2  34f8093a16b64c8097bdaa03cccdef37   \n",
       "3  b6a13cac6289435697e8ff98d55854a9   \n",
       "4  52ffe790d24a41669c08a240c1d45114   \n",
       "\n",
       "                                            answer  start_char  end_char  \\\n",
       "0       {'answer_start': [2476], 'text': ['acid']}        2476      2480   \n",
       "1         {'answer_start': [26], 'text': ['1927']}          26        30   \n",
       "2  {'answer_start': [2873], 'text': ['Mary-Anne']}        2873      2882   \n",
       "3      {'answer_start': [3659], 'text': ['Emily']}        3659      3664   \n",
       "4       {'answer_start': [2348], 'text': ['Jill']}        2348      2352   \n",
       "\n",
       "  final_answer  \n",
       "0         acid  \n",
       "1         1927  \n",
       "2    Mary-Anne  \n",
       "3        Emily  \n",
       "4         Jill  "
      ]
     },
     "execution_count": 172,
     "metadata": {},
     "output_type": "execute_result"
    }
   ],
   "source": [
    "df.head()"
   ]
  },
  {
   "cell_type": "code",
   "execution_count": null,
   "id": "58a1c50f",
   "metadata": {},
   "outputs": [],
   "source": []
  },
  {
   "cell_type": "code",
   "execution_count": null,
   "id": "3824ccb3",
   "metadata": {},
   "outputs": [],
   "source": []
  }
 ],
 "metadata": {
  "kernelspec": {
   "display_name": "Python 3",
   "language": "python",
   "name": "python3"
  },
  "language_info": {
   "codemirror_mode": {
    "name": "ipython",
    "version": 3
   },
   "file_extension": ".py",
   "mimetype": "text/x-python",
   "name": "python",
   "nbconvert_exporter": "python",
   "pygments_lexer": "ipython3",
   "version": "3.7.1"
  }
 },
 "nbformat": 4,
 "nbformat_minor": 5
}
